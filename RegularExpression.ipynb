{
 "cells": [
  {
   "attachments": {},
   "cell_type": "markdown",
   "metadata": {},
   "source": [
    "# 파이썬에서의 기본 사용법"
   ]
  },
  {
   "attachments": {},
   "cell_type": "markdown",
   "metadata": {},
   "source": [
    "### 파이썬에서 정규 표현식을 지원하는 re 모듈\n",
    "파이썬은 정규 표현식을 지원하기 위해 re(regular expression) 모듈을 제공한다"
   ]
  },
  {
   "cell_type": "code",
   "execution_count": 1,
   "metadata": {},
   "outputs": [],
   "source": [
    "import re\n",
    "p = re.compile('ab*') #re.compile을 사용하여 정규 표현식을 컴파일한다."
   ]
  },
  {
   "attachments": {},
   "cell_type": "markdown",
   "metadata": {},
   "source": [
    "### 정규식을 이용한 문자열 검색\n",
    "|Method|목적|\n",
    "|--|--|\n",
    "|match()|문자열의 처음부터 정규식과 매치되는지 조사|\n",
    "|search()|문자열 전체를 검색하여 정규식과 매치되는지 조사|\n",
    "|findall()|정규식과 매치되는 모든 문자열(substring)을 리스트로 리턴|\n",
    "|finditer()|정규식과 매치되는 모든 문자열(substring)을 반복 가능한 객체로 리턴|"
   ]
  },
  {
   "cell_type": "code",
   "execution_count": 17,
   "metadata": {},
   "outputs": [],
   "source": [
    "import re\n",
    "p = re.compile('[a-z]+') # 알파벳이 하나 이상 반복"
   ]
  },
  {
   "cell_type": "code",
   "execution_count": 5,
   "metadata": {},
   "outputs": [
    {
     "name": "stdout",
     "output_type": "stream",
     "text": [
      "<re.Match object; span=(0, 6), match='python'>\n"
     ]
    }
   ],
   "source": [
    "# match\n",
    "m = p.match(\"python\")\n",
    "print(m)\n",
    "\n",
    "#\"python\" 문자열은 [a-z]+ 정규식에 부합되므로 match 객체를 돌려준다."
   ]
  },
  {
   "cell_type": "code",
   "execution_count": 8,
   "metadata": {},
   "outputs": [
    {
     "name": "stdout",
     "output_type": "stream",
     "text": [
      "None\n"
     ]
    }
   ],
   "source": [
    "m = p.match(\"123 python\")\n",
    "print(m)\n",
    "\n",
    "#\"123 python\" 문자열은 처음에 나오는 문자 1이 정규식 [a-z]+에 부합되지 않으므로 None을 돌려준다."
   ]
  },
  {
   "cell_type": "code",
   "execution_count": null,
   "metadata": {},
   "outputs": [],
   "source": [
    "# 정규식 프로그램 예시\n",
    "p = re.compile(정규표현식)\n",
    "m = p.match('string goes here')\n",
    "if m:\n",
    "    print('Match found: ', m.group())\n",
    "else:\n",
    "    print('No match')\n",
    "# 즉 match의 결과 값이 있을 때만 그다음 작업을 수행하겠다는 것"
   ]
  },
  {
   "cell_type": "code",
   "execution_count": 9,
   "metadata": {},
   "outputs": [
    {
     "name": "stdout",
     "output_type": "stream",
     "text": [
      "<re.Match object; span=(0, 6), match='python'>\n"
     ]
    }
   ],
   "source": [
    "# search\n",
    "m = p.search(\"python\")\n",
    "print(m)\n",
    "\n",
    "#\"python\" 문자열에 search 메서드를 수행하면 match를 수행했을 때와 동일하게 매치된다."
   ]
  },
  {
   "cell_type": "code",
   "execution_count": 12,
   "metadata": {},
   "outputs": [
    {
     "name": "stdout",
     "output_type": "stream",
     "text": [
      "<re.Match object; span=(4, 10), match='python'>\n"
     ]
    }
   ],
   "source": [
    "m = p.search(\"123 python\")\n",
    "print(m)\n",
    "\n",
    "#첫 번째 문자는 \"1\"이지만 search는 문자열의 처음부터 검색하는 것이 아니라 문자열 전체를 검색하기 때문에 \n",
    "#\"1 \" 이후의 \"python\" 문자열과 매치된다."
   ]
  },
  {
   "cell_type": "code",
   "execution_count": 13,
   "metadata": {},
   "outputs": [
    {
     "name": "stdout",
     "output_type": "stream",
     "text": [
      "['life', 'is', 'too', 'short']\n"
     ]
    }
   ],
   "source": [
    "# findall\n",
    "result = p.findall(\"life is too short\")\n",
    "print(result)\n",
    "\n",
    "#findall은 패턴([a-z]+)과 매치되는 모든 값을 찾아 리스트로 리턴한다"
   ]
  },
  {
   "cell_type": "code",
   "execution_count": 16,
   "metadata": {},
   "outputs": [
    {
     "name": "stdout",
     "output_type": "stream",
     "text": [
      "<callable_iterator object at 0x0000020F4AA603A0>\n",
      "<re.Match object; span=(0, 4), match='life'>\n",
      "<re.Match object; span=(5, 7), match='is'>\n",
      "<re.Match object; span=(8, 11), match='too'>\n",
      "<re.Match object; span=(12, 17), match='short'>\n"
     ]
    }
   ],
   "source": [
    "#finditer\n",
    "result = p.finditer(\"life is too short\")\n",
    "print(result)\n",
    "for r in result: print(r)\n",
    "\n",
    "#finditer는 findall과 동일하지만 반복 가능한 객체를 리턴한다. \n",
    "#반복 가능한 객체가 포함하는 각각의 요소는 match 객체이다."
   ]
  },
  {
   "attachments": {},
   "cell_type": "markdown",
   "metadata": {},
   "source": [
    "### match 객체의 메서드\n",
    "|Method|목적|\n",
    "|--|--|\n",
    "|group()|매치된 문자열을 리턴|\n",
    "|start()|매치된 문자열의 시작 위치를 리턴|\n",
    "|end()|매치된 문자열의 끝 위치를 리턴|\n",
    "|span()|매치된 문자열의 (시작, 끝)에 해당하는 튜플을 리턴|"
   ]
  },
  {
   "cell_type": "code",
   "execution_count": 23,
   "metadata": {},
   "outputs": [
    {
     "name": "stdout",
     "output_type": "stream",
     "text": [
      "매치된 문자열 :  python\n",
      "매치된 문자열의 시작 위치 :  0\n",
      "매치된 문자열의 끝 위치 :  6\n",
      "매치된 문자열의 (시작,끝) 위치 :  (0, 6)\n"
     ]
    }
   ],
   "source": [
    "m = p.match(\"python\")\n",
    "print(\"매치된 문자열 : \", m.group())\n",
    "print(\"매치된 문자열의 시작 위치 : \", m.start())\n",
    "print(\"매치된 문자열의 끝 위치 : \", m.end())\n",
    "print(\"매치된 문자열의 (시작,끝) 위치 : \", m.span())"
   ]
  },
  {
   "cell_type": "code",
   "execution_count": 31,
   "metadata": {},
   "outputs": [
    {
     "name": "stdout",
     "output_type": "stream",
     "text": [
      "매치된 문자열 :  python\n",
      "매치된 문자열의 시작 위치 :  4\n",
      "매치된 문자열의 끝 위치 :  10\n",
      "매치된 문자열의 (시작,끝) 위치 :  (4, 10)\n"
     ]
    }
   ],
   "source": [
    "m = p.search(\"123 python\")\n",
    "print(\"매치된 문자열 : \", m.group())\n",
    "print(\"매치된 문자열의 시작 위치 : \", m.start())\n",
    "print(\"매치된 문자열의 끝 위치 : \", m.end())\n",
    "print(\"매치된 문자열의 (시작,끝) 위치 : \", m.span())"
   ]
  },
  {
   "cell_type": "code",
   "execution_count": 33,
   "metadata": {},
   "outputs": [
    {
     "data": {
      "text/plain": [
       "<re.Match object; span=(0, 6), match='python'>"
      ]
     },
     "execution_count": 33,
     "metadata": {},
     "output_type": "execute_result"
    }
   ],
   "source": [
    "# 축약된 형태\n",
    "m = re.match('[a-z]+', \"python\")\n",
    "m"
   ]
  },
  {
   "attachments": {},
   "cell_type": "markdown",
   "metadata": {},
   "source": [
    "### 컴파일 옵션\n",
    "- DOTALL(S) - <code>.</code>이 줄바꿈 문자를 포함하여 모든 문자와 매치할 수 있도록 한다.\n",
    "- IGNORECASE(I) - 대소문자에 관계없이 매치할 수 있도록 한다.\n",
    "- MULTILINE(M) - 여러줄과 매치할 수 있도록 한다. (<code>^</code>, <code>$</code> 메타문자의 사용과 관계가 있는 옵션)\n",
    "- VERBOSE(X) - verbose 모드를 사용할 수 있도록 한다. (정규식을 보기 편하게 만들수 있고 주석등을 사용)<p>\n",
    "-> 옵션을 사용할 때는 <code>re.DOTALL</code>처럼 전체 옵션 이름을 써도 되고 <code>re.S</code>처럼 약어 사용 가능"
   ]
  },
  {
   "attachments": {},
   "cell_type": "markdown",
   "metadata": {},
   "source": [
    "##### DOTALL, S\n",
    "<code>.</code> 메타 문자는 줄바꿈 문자(<code>\\n</code>)를 제외한 모든 문자와 매치되는 규칙이 있다. </br>\n",
    "만약 <code>\\n</code> 문자도 포함하여 매치하고 싶다면 <code>re.DOTALL</code> 또는 <code>re.S</code> 옵션을 사용해 정규식을 컴파일하면 된다."
   ]
  },
  {
   "cell_type": "code",
   "execution_count": 36,
   "metadata": {},
   "outputs": [
    {
     "name": "stdout",
     "output_type": "stream",
     "text": [
      "None\n"
     ]
    }
   ],
   "source": [
    "# DOTALL, S\n",
    "import re\n",
    "p = re.compile('a.b')\n",
    "m = p.match('a\\nb')\n",
    "print(m)\n",
    "\n",
    "#정규식이 a.b인 경우 문자열 a\\nb는 매치되지 않음을 알 수 있다. \n",
    "#왜냐하면 \\n은 . 메타 문자와 매치되지 않기 때문이다. "
   ]
  },
  {
   "cell_type": "code",
   "execution_count": 38,
   "metadata": {},
   "outputs": [
    {
     "name": "stdout",
     "output_type": "stream",
     "text": [
      "<re.Match object; span=(0, 3), match='a\\nb'>\n"
     ]
    }
   ],
   "source": [
    "# \\n 문자와도 매치되게 하려면 다음과 같이 re.DOTALL 옵션을 사용해야 한다.\n",
    "p = re.compile('a.b', re.DOTALL)\n",
    "m = p.match('a\\nb')\n",
    "print(m)\n",
    "\n",
    "#re.DOTALL 옵션은 여러 줄로 이루어진 문자열에서 줄바꿈 문자에 상관없이 검색할 때 많이 사용"
   ]
  },
  {
   "attachments": {},
   "cell_type": "markdown",
   "metadata": {},
   "source": [
    "##### IGNORECASE, I\n",
    "<code>re.IGNORECASE</code> 또는 <code>re.I</code> 옵션은 대소문자 구별 없이 매치를 수행할 때 사용하는 옵션이다."
   ]
  },
  {
   "cell_type": "code",
   "execution_count": 41,
   "metadata": {},
   "outputs": [
    {
     "data": {
      "text/plain": [
       "<re.Match object; span=(0, 6), match='PYTHON'>"
      ]
     },
     "execution_count": 41,
     "metadata": {},
     "output_type": "execute_result"
    }
   ],
   "source": [
    "p = re.compile('[a-z]+', re.IGNORECASE)\n",
    "p.match('PYTHON')\n",
    "\n",
    "#[a-z]+ 정규식은 소문자만을 의미하지만 re.IGNORECASE 옵션으로 대소문자 구별 없이 매치된다."
   ]
  },
  {
   "attachments": {},
   "cell_type": "markdown",
   "metadata": {},
   "source": [
    "##### MULTILINE, M\n",
    "<code>re.MULTILINE</code> 또는 <code>re.M</code> 메타 문자인 <code>^</code>, <code>$</code>와 연관된 옵션이다. </br>\n",
    "<code>^</code> : 문자열의 처음 </br>\n",
    "<code>$</code> : 문자열의 마지막"
   ]
  },
  {
   "cell_type": "code",
   "execution_count": 48,
   "metadata": {},
   "outputs": [
    {
     "name": "stdout",
     "output_type": "stream",
     "text": [
      "['python one']\n"
     ]
    }
   ],
   "source": [
    "import re\n",
    "p = re.compile(\"^python\\s\\w+\")\n",
    "data = \"\"\"python one\n",
    "life is too short\n",
    "python two\n",
    "you need python\n",
    "python three\"\"\"\n",
    "print(p.findall(data))\n",
    "\n",
    "#^ 메타 문자에 의해 python이라는 문자열을 사용한 첫 번째 줄만 매치된 것"
   ]
  },
  {
   "cell_type": "code",
   "execution_count": 49,
   "metadata": {},
   "outputs": [
    {
     "name": "stdout",
     "output_type": "stream",
     "text": [
      "['python one', 'python two', 'python three']\n"
     ]
    }
   ],
   "source": [
    "#^ 메타 문자를 문자열 전체의 처음이 아니라 각 라인의 처음으로 인식시키고 싶은 경우\n",
    "#사용할 수 있는 옵션이 re.MULTILINE 또는 re.M이다.\n",
    "import re\n",
    "p = re.compile(\"^python\\s\\w+\", re.MULTILINE) #re.MULTILINE 옵션 추가\n",
    "\n",
    "data = \"\"\"python one\n",
    "life is too short\n",
    "python two\n",
    "you need python\n",
    "python three\"\"\"\n",
    "\n",
    "print(p.findall(data))\n",
    "\n",
    "#re.MULTILINE 옵션으로 인해 ^ 메타 문자가 문자열 전체가 아닌 각 줄의 처음이라는 의미\n",
    "#-> 즉, re.MULTILINE 옵션은 ^, $ 메타 문자를 문자열의 각 줄마다 적용해 주는 것\n"
   ]
  },
  {
   "attachments": {},
   "cell_type": "markdown",
   "metadata": {},
   "source": [
    "##### VERBOSE, X\n",
    "<code>re.VERBOSE</code> 또는 <code>re.X</code> 옵션은 이해하기 어려운 정규식을 주석 또는 줄 단위로 구분할 때 사용하는 옵션이다."
   ]
  },
  {
   "cell_type": "code",
   "execution_count": 56,
   "metadata": {},
   "outputs": [
    {
     "name": "stdout",
     "output_type": "stream",
     "text": [
      "re.compile('&[#](0[0-7]+|[0-9]+|x[0-9a-fA-F]+);')\n",
      "re.compile('\\n &[#]                # Start of a numeric entity reference\\n (\\n     0[0-7]+         # Octal form\\n   | [0-9]+          # Decimal form\\n   | x[0-9a-fA-F]+   # Hexadecimal form\\n )\\n ;              , re.VERBOSE)\n"
     ]
    }
   ],
   "source": [
    "charref = re.compile(r'&[#](0[0-7]+|[0-9]+|x[0-9a-fA-F]+);')\n",
    "print(charref)\n",
    "charref = re.compile(r\"\"\"\n",
    " &[#]                # Start of a numeric entity reference\n",
    " (\n",
    "     0[0-7]+         # Octal form\n",
    "   | [0-9]+          # Decimal form\n",
    "   | x[0-9a-fA-F]+   # Hexadecimal form\n",
    " )\n",
    " ;                   # Trailing semicolon\n",
    "\"\"\", re.VERBOSE)\n",
    "print(charref)\n",
    "\n",
    "# 첫 번째와 두 번째 예를 비교해 보면 컴파일된 패턴 객체인 charref는 모두 동일한 역할\n",
    "# 하지만 정규식이 복잡할 경우 두 번째처럼 주석을 적고 여러 줄로 표현하는 것이 훨씬 가독성이 좋다\n",
    "\n",
    "# -> re.VERBOSE 옵션으로 문자열에 사용된 whitespace는 컴파일할 때 제거한 후(단 [ ] 안에 사용한 whitespace는 제외)\n",
    "# 줄 단위로 #기호를 사용하여 주석문을 작성"
   ]
  },
  {
   "attachments": {},
   "cell_type": "markdown",
   "metadata": {},
   "source": [
    "##### 백슬래시 문제\n",
    "<code> \\section </code>이 정규식은 <code>\\s</code> 문자가 whitespace로 해석되어 의도한 대로 매치가 이루어지지 않는다.</br>\n",
    "<code> [ \\t\\n\\r\\f\\v]ection </code>다음 과 동일한 의미이다.</br>\n",
    "의도한 대로 매치하고 싶다면 <code>\\\\section</code> 다음 과 같이 작성 해야한다."
   ]
  },
  {
   "cell_type": "code",
   "execution_count": 64,
   "metadata": {},
   "outputs": [
    {
     "data": {
      "text/plain": [
       "re.compile(r'\\section', re.UNICODE)"
      ]
     },
     "execution_count": 64,
     "metadata": {},
     "output_type": "execute_result"
    }
   ],
   "source": [
    "p = re.compile('\\\\section')\n",
    "p\n",
    "\n",
    "# \\ 문자가 문자열 자체임을 알려 주기 위해 백슬래시 2개를 사용하여 이스케이프 처리"
   ]
  },
  {
   "cell_type": "code",
   "execution_count": 68,
   "metadata": {},
   "outputs": [
    {
     "name": "stdout",
     "output_type": "stream",
     "text": [
      "re.compile('\\\\\\\\section')\n",
      "re.compile('\\\\\\\\section')\n"
     ]
    }
   ],
   "source": [
    "p = re.compile('\\\\\\\\section')\n",
    "print(p)\n",
    "# 정규식 엔진에 \\\\ 문자를 전달하려면 파이썬은 \\\\\\\\ 처럼 백슬래시를 4개나 사용해야한다\n",
    "\n",
    "p = re.compile(r'\\\\section')\n",
    "print(p)\n",
    "# 너무 복잡해지는 문제를 해결 하기 위해서  Raw String을 사용해야 한다."
   ]
  }
 ],
 "metadata": {
  "kernelspec": {
   "display_name": "Python 3",
   "language": "python",
   "name": "python3"
  },
  "language_info": {
   "codemirror_mode": {
    "name": "ipython",
    "version": 3
   },
   "file_extension": ".py",
   "mimetype": "text/x-python",
   "name": "python",
   "nbconvert_exporter": "python",
   "pygments_lexer": "ipython3",
   "version": "3.10.4"
  },
  "orig_nbformat": 4
 },
 "nbformat": 4,
 "nbformat_minor": 2
}
