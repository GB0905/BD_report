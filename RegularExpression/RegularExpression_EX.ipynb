{
 "cells": [
  {
   "cell_type": "code",
   "execution_count": 3,
   "metadata": {},
   "outputs": [
    {
     "name": "stdout",
     "output_type": "stream",
     "text": [
      "naver.com\n",
      "False URL\n",
      "https://www.naver.com/\n",
      "True URL\n"
     ]
    }
   ],
   "source": [
    "# 예제_1\n",
    "# url 검사\n",
    "\n",
    "# URL의 유효성 검사 = r'^(https?|ftp)://[^\\s/$.?#].[^\\s]*$'\n",
    "import re\n",
    "\n",
    "pattern = r'^(https?|ftp)://[^\\s/$.?#].[^\\s]*$'\n",
    "\n",
    "while True:\n",
    "    url = input(\"Enter a URL: \")\n",
    "\n",
    "    if re.match(pattern, url):\n",
    "        print(url)\n",
    "        print(\"True URL\")\n",
    "        break\n",
    "    else:\n",
    "        print(url)\n",
    "        print(\"False URL\")\n"
   ]
  },
  {
   "cell_type": "code",
   "execution_count": 2,
   "metadata": {},
   "outputs": [
    {
     "name": "stdout",
     "output_type": "stream",
     "text": [
      "12345\n",
      "Weak password. Try again.\n",
      "gb0905@\n",
      "Weak password. Try again.\n",
      "MyStrongPassword1234@\n",
      "Strong password\n"
     ]
    }
   ],
   "source": [
    "# 예제_2\n",
    "# 암호 강도 확인\n",
    "\n",
    "# 하나 이상의 대문자 (?=.*[A-Z]). \n",
    "# 하나 이상의 소문자 (?=.*[a-z]). \n",
    "# 적어도 하나의 숫자 (?=.*\\d). \n",
    "# [@#$%^&+=] (?=.*[@#$%^&+=]) 집합에서 하나 이상의 특수 문자. \n",
    "# 길이는 .{8,} 8자 이상. \n",
    "\n",
    "import re\n",
    "\n",
    "pattern = r'^(?=.*[A-Z])(?=.*[a-z])(?=.*\\d)(?=.*[@#$%^&+=]).{8,}$'\n",
    "\n",
    "while True:\n",
    "    password = input(\"비밀번호 입력 : \")\n",
    "\n",
    "    if re.match(pattern, password):\n",
    "        print(password)\n",
    "        print(\"Strong password\")\n",
    "        break\n",
    "    else:\n",
    "        print(password)\n",
    "        print(\"Weak password. Try again.\")"
   ]
  }
 ],
 "metadata": {
  "kernelspec": {
   "display_name": "Python 3",
   "language": "python",
   "name": "python3"
  },
  "language_info": {
   "codemirror_mode": {
    "name": "ipython",
    "version": 3
   },
   "file_extension": ".py",
   "mimetype": "text/x-python",
   "name": "python",
   "nbconvert_exporter": "python",
   "pygments_lexer": "ipython3",
   "version": "3.10.4"
  },
  "orig_nbformat": 4
 },
 "nbformat": 4,
 "nbformat_minor": 2
}
